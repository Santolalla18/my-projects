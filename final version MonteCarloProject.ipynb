{
 "cells": [
  {
   "cell_type": "code",
   "execution_count": 1,
   "id": "b0e00ec5-3e97-4a15-8a3a-75e365777a54",
   "metadata": {
    "scrolled": true
   },
   "outputs": [
    {
     "name": "stdout",
     "output_type": "stream",
     "text": [
      "                   JNJ        PFE         ABT\n",
      "Date                                         \n",
      "2023-06-26  163.630005  36.889999  108.510002\n",
      "2023-06-27  163.289993  36.419998  107.790001\n",
      "2023-06-28  162.960007  36.290001  107.610001\n",
      "2023-06-29  164.100006  36.119999  107.660004\n",
      "2023-06-30  165.520004  36.680000  109.019997\n",
      "2023-07-03  163.350006  36.650002  107.220001\n",
      "2023-07-05  162.809998  36.459999  107.370003\n",
      "2023-07-06  161.600006  35.630001  107.199997\n",
      "2023-07-07  159.250000  35.529999  106.349998\n",
      "2023-07-10  159.509995  35.680000  107.019997\n"
     ]
    }
   ],
   "source": [
    "import os\n",
    "import pandas as pd\n",
    "import matplotlib.pyplot as plt\n",
    "get_ipython().run_line_magic('matplotlib', 'inline')\n",
    "\n",
    "# List of file paths and their corresponding stock symbols\n",
    "# JNJ <- Johnson and Johnson \n",
    "# PFE <- Pzifer\n",
    "# ABT <- Abbot Labs\n",
    "\n",
    "file_paths = {\n",
    "    'JNJ': r'C:\\Users\\15612\\Downloads\\JNJ.csv',\n",
    "    'PFE': r'C:\\Users\\15612\\Downloads\\PFE.csv',\n",
    "    'ABT': r'C:\\Users\\15612\\Downloads\\ABT.csv'\n",
    "}\n",
    "\n",
    "# Function to read a CSV file into a DataFrame and select the 'Close' column\n",
    "def read_stock_data(file_path):\n",
    "    try:\n",
    "        df = pd.read_csv(file_path, index_col='Date', parse_dates=True)\n",
    "        return df[['Close']].rename(columns={'Close': os.path.basename(file_path).split('.')[0]})\n",
    "    except FileNotFoundError:\n",
    "        print(f\"File '{file_path}' not found.\")\n",
    "        return None\n",
    "\n",
    "# Read all CSV files into a dictionary of DataFrames\n",
    "stock_data = {symbol: read_stock_data(path) for symbol, path in file_paths.items()}\n",
    "\n",
    "# Remove any None values or NaN from the dictionary (files that were not found)\n",
    "stock_data = {symbol: df for symbol, df in stock_data.items() if df is not None}\n",
    "\n",
    "# Concatenate DataFrames into a single DataFrame IMPORTANT FUNCTION! \n",
    "stocks = pd.concat(stock_data.values(), axis=1)\n",
    "\n",
    "# Display the first 10 rows of the combined DataFrame\n",
    "n = 10\n",
    "print(stocks.head(n))\n",
    "\n",
    "\n",
    "\n",
    "\n",
    "\n",
    "\n",
    "\n"
   ]
  },
  {
   "cell_type": "code",
   "execution_count": 5,
   "id": "4945aadf-fecd-4104-abd9-fe93dc44dcd6",
   "metadata": {},
   "outputs": [
    {
     "data": {
      "text/plain": [
       "Date\n",
       "2023-06-26         NaN\n",
       "2023-06-27   -0.007151\n",
       "2023-06-28   -0.002420\n",
       "2023-06-29    0.000925\n",
       "2023-06-30    0.012263\n",
       "                ...   \n",
       "2024-06-17   -0.006460\n",
       "2024-06-18    0.006367\n",
       "2024-06-20    0.017158\n",
       "2024-06-21   -0.000471\n",
       "2024-06-24    0.007528\n",
       "Length: 251, dtype: float64"
      ]
     },
     "execution_count": 5,
     "metadata": {},
     "output_type": "execute_result"
    }
   ],
   "source": [
    "# Calculating Mean Daily Returns for ALL STOCKS\n",
    "\n",
    "mean_daily_return = stocks.pct_change(1).mean(1)\n",
    "mean_daily_return\n",
    "\n",
    "# Parameter (1) indicates that the change in percentage is being calculated by day\n",
    "# Parameter (1) indicates that the mean return value is calculated across columns by each row\n",
    "# NaN means Not A Number and it refers to missing  data in the DF \n",
    "\n"
   ]
  },
  {
   "cell_type": "code",
   "execution_count": 6,
   "id": "fc51c734-71ec-427c-bae3-20c48a7e0078",
   "metadata": {},
   "outputs": [
    {
     "data": {
      "text/html": [
       "<div>\n",
       "<style scoped>\n",
       "    .dataframe tbody tr th:only-of-type {\n",
       "        vertical-align: middle;\n",
       "    }\n",
       "\n",
       "    .dataframe tbody tr th {\n",
       "        vertical-align: top;\n",
       "    }\n",
       "\n",
       "    .dataframe thead th {\n",
       "        text-align: right;\n",
       "    }\n",
       "</style>\n",
       "<table border=\"1\" class=\"dataframe\">\n",
       "  <thead>\n",
       "    <tr style=\"text-align: right;\">\n",
       "      <th></th>\n",
       "      <th>JNJ</th>\n",
       "      <th>PFE</th>\n",
       "      <th>ABT</th>\n",
       "    </tr>\n",
       "  </thead>\n",
       "  <tbody>\n",
       "    <tr>\n",
       "      <th>JNJ</th>\n",
       "      <td>1.000000</td>\n",
       "      <td>0.363211</td>\n",
       "      <td>0.416534</td>\n",
       "    </tr>\n",
       "    <tr>\n",
       "      <th>PFE</th>\n",
       "      <td>0.363211</td>\n",
       "      <td>1.000000</td>\n",
       "      <td>0.170376</td>\n",
       "    </tr>\n",
       "    <tr>\n",
       "      <th>ABT</th>\n",
       "      <td>0.416534</td>\n",
       "      <td>0.170376</td>\n",
       "      <td>1.000000</td>\n",
       "    </tr>\n",
       "  </tbody>\n",
       "</table>\n",
       "</div>"
      ],
      "text/plain": [
       "          JNJ       PFE       ABT\n",
       "JNJ  1.000000  0.363211  0.416534\n",
       "PFE  0.363211  1.000000  0.170376\n",
       "ABT  0.416534  0.170376  1.000000"
      ]
     },
     "execution_count": 6,
     "metadata": {},
     "output_type": "execute_result"
    }
   ],
   "source": [
    "stocks.pct_change(1).corr()\n",
    "\n",
    "# It Measures the strength and direction of the linear relationship between two variables (Correlation Matrix)\n",
    "# Correlation = Cov(x,y)/sd(x) * sd(y)\n",
    "# Negative Values are not strong at all, 0 Values are neutral and Positive Values are strong\n"
   ]
  },
  {
   "cell_type": "code",
   "execution_count": 7,
   "id": "6f1516e2-56b1-4d36-9c87-8e37b4aa71a1",
   "metadata": {},
   "outputs": [
    {
     "data": {
      "text/plain": [
       "<Axes: xlabel='Date'>"
      ]
     },
     "execution_count": 7,
     "metadata": {},
     "output_type": "execute_result"
    },
    {
     "data": {
      "image/png": "[encoded data removed]",
      "text/plain": [
       "<Figure size 640x480 with 1 Axes>"
      ]
     },
     "metadata": {},
     "output_type": "display_data"
    }
   ],
   "source": [
    "# Simulating large amounts of allocations \n",
    "\n",
    "stock_normed = stocks/stocks.iloc[0] # iloc[] is integer position based from 0 to 1\n",
    "stock_normed.plot()\n"
   ]
  },
  {
   "cell_type": "code",
   "execution_count": 8,
   "id": "c188d7cb",
   "metadata": {},
   "outputs": [
    {
     "data": {
      "text/html": [
       "<div>\n",
       "<style scoped>\n",
       "    .dataframe tbody tr th:only-of-type {\n",
       "        vertical-align: middle;\n",
       "    }\n",
       "\n",
       "    .dataframe tbody tr th {\n",
       "        vertical-align: top;\n",
       "    }\n",
       "\n",
       "    .dataframe thead th {\n",
       "        text-align: right;\n",
       "    }\n",
       "</style>\n",
       "<table border=\"1\" class=\"dataframe\">\n",
       "  <thead>\n",
       "    <tr style=\"text-align: right;\">\n",
       "      <th></th>\n",
       "      <th>JNJ</th>\n",
       "      <th>PFE</th>\n",
       "      <th>ABT</th>\n",
       "    </tr>\n",
       "    <tr>\n",
       "      <th>Date</th>\n",
       "      <th></th>\n",
       "      <th></th>\n",
       "      <th></th>\n",
       "    </tr>\n",
       "  </thead>\n",
       "  <tbody>\n",
       "    <tr>\n",
       "      <th>2023-06-26</th>\n",
       "      <td>NaN</td>\n",
       "      <td>NaN</td>\n",
       "      <td>NaN</td>\n",
       "    </tr>\n",
       "    <tr>\n",
       "      <th>2023-06-27</th>\n",
       "      <td>-0.002078</td>\n",
       "      <td>-0.012741</td>\n",
       "      <td>-0.006635</td>\n",
       "    </tr>\n",
       "    <tr>\n",
       "      <th>2023-06-28</th>\n",
       "      <td>-0.002021</td>\n",
       "      <td>-0.003569</td>\n",
       "      <td>-0.001670</td>\n",
       "    </tr>\n",
       "    <tr>\n",
       "      <th>2023-06-29</th>\n",
       "      <td>0.006996</td>\n",
       "      <td>-0.004685</td>\n",
       "      <td>0.000465</td>\n",
       "    </tr>\n",
       "    <tr>\n",
       "      <th>2023-06-30</th>\n",
       "      <td>0.008653</td>\n",
       "      <td>0.015504</td>\n",
       "      <td>0.012632</td>\n",
       "    </tr>\n",
       "    <tr>\n",
       "      <th>2023-07-03</th>\n",
       "      <td>-0.013110</td>\n",
       "      <td>-0.000818</td>\n",
       "      <td>-0.016511</td>\n",
       "    </tr>\n",
       "    <tr>\n",
       "      <th>2023-07-05</th>\n",
       "      <td>-0.003306</td>\n",
       "      <td>-0.005184</td>\n",
       "      <td>0.001399</td>\n",
       "    </tr>\n",
       "    <tr>\n",
       "      <th>2023-07-06</th>\n",
       "      <td>-0.007432</td>\n",
       "      <td>-0.022765</td>\n",
       "      <td>-0.001583</td>\n",
       "    </tr>\n",
       "    <tr>\n",
       "      <th>2023-07-07</th>\n",
       "      <td>-0.014542</td>\n",
       "      <td>-0.002807</td>\n",
       "      <td>-0.007929</td>\n",
       "    </tr>\n",
       "    <tr>\n",
       "      <th>2023-07-10</th>\n",
       "      <td>0.001633</td>\n",
       "      <td>0.004222</td>\n",
       "      <td>0.006300</td>\n",
       "    </tr>\n",
       "  </tbody>\n",
       "</table>\n",
       "</div>"
      ],
      "text/plain": [
       "                 JNJ       PFE       ABT\n",
       "Date                                    \n",
       "2023-06-26       NaN       NaN       NaN\n",
       "2023-06-27 -0.002078 -0.012741 -0.006635\n",
       "2023-06-28 -0.002021 -0.003569 -0.001670\n",
       "2023-06-29  0.006996 -0.004685  0.000465\n",
       "2023-06-30  0.008653  0.015504  0.012632\n",
       "2023-07-03 -0.013110 -0.000818 -0.016511\n",
       "2023-07-05 -0.003306 -0.005184  0.001399\n",
       "2023-07-06 -0.007432 -0.022765 -0.001583\n",
       "2023-07-07 -0.014542 -0.002807 -0.007929\n",
       "2023-07-10  0.001633  0.004222  0.006300"
      ]
     },
     "execution_count": 8,
     "metadata": {},
     "output_type": "execute_result"
    }
   ],
   "source": [
    "# Calculating percentage change in between 1 day\n",
    "\n",
    "stock_daily_return = stocks.pct_change(1)  \n",
    "n = 10\n",
    "stock_daily_return.head(n)"
   ]
  },
  {
   "cell_type": "code",
   "execution_count": 9,
   "id": "b1a9aae0",
   "metadata": {},
   "outputs": [
    {
     "ename": "NameError",
     "evalue": "name 'np' is not defined",
     "output_type": "error",
     "traceback": [
      "\u001b[1;31m---------------------------------------------------------------------------\u001b[0m",
      "\u001b[1;31mNameError\u001b[0m                                 Traceback (most recent call last)",
      "Cell \u001b[1;32mIn[9], line 3\u001b[0m\n\u001b[0;32m      1\u001b[0m \u001b[38;5;66;03m# Log Returns vs Arithmatic Returns, using logs is a nicer way of normalizing series \u001b[39;00m\n\u001b[1;32m----> 3\u001b[0m log_returns \u001b[38;5;241m=\u001b[39m \u001b[43mnp\u001b[49m\u001b[38;5;241m.\u001b[39mlog(stocks\u001b[38;5;241m/\u001b[39mstocks\u001b[38;5;241m.\u001b[39mshift(\u001b[38;5;241m1\u001b[39m))  \u001b[38;5;66;03m# shift(1) is one period or day backward along the index axis\u001b[39;00m\n\u001b[0;32m      4\u001b[0m n \u001b[38;5;241m=\u001b[39m \u001b[38;5;241m10\u001b[39m\n\u001b[0;32m      5\u001b[0m log_returns\u001b[38;5;241m.\u001b[39mhead(n)\n",
      "\u001b[1;31mNameError\u001b[0m: name 'np' is not defined"
     ]
    }
   ],
   "source": [
    "# Log Returns vs Arithmatic Returns, using logs is a nicer way of normalizing series \n",
    "\n",
    "log_returns = np.log(stocks/stocks.shift(1))  # shift(1) is one period or day backward along the index axis\n",
    "n = 10\n",
    "log_returns.head(n)"
   ]
  },
  {
   "cell_type": "code",
   "execution_count": 51,
   "id": "f494e855",
   "metadata": {},
   "outputs": [
    {
     "data": {
      "image/png": "[encoded data removed]",
      "text/plain": [
       "<Figure size 1000x500 with 4 Axes>"
      ]
     },
     "metadata": {},
     "output_type": "display_data"
    }
   ],
   "source": [
    "log_returns.hist(bins=120,figsize=(10,5));\n",
    "plt.tight_layout()"
   ]
  },
  {
   "cell_type": "code",
   "execution_count": 52,
   "id": "fe60728a",
   "metadata": {},
   "outputs": [
    {
     "data": {
      "text/html": [
       "<div>\n",
       "<style scoped>\n",
       "    .dataframe tbody tr th:only-of-type {\n",
       "        vertical-align: middle;\n",
       "    }\n",
       "\n",
       "    .dataframe tbody tr th {\n",
       "        vertical-align: top;\n",
       "    }\n",
       "\n",
       "    .dataframe thead th {\n",
       "        text-align: right;\n",
       "    }\n",
       "</style>\n",
       "<table border=\"1\" class=\"dataframe\">\n",
       "  <thead>\n",
       "    <tr style=\"text-align: right;\">\n",
       "      <th></th>\n",
       "      <th>count</th>\n",
       "      <th>mean</th>\n",
       "      <th>std</th>\n",
       "      <th>min</th>\n",
       "      <th>25%</th>\n",
       "      <th>50%</th>\n",
       "      <th>75%</th>\n",
       "      <th>max</th>\n",
       "    </tr>\n",
       "  </thead>\n",
       "  <tbody>\n",
       "    <tr>\n",
       "      <th>JNJ</th>\n",
       "      <td>250.0</td>\n",
       "      <td>-0.000368</td>\n",
       "      <td>0.010179</td>\n",
       "      <td>-0.040648</td>\n",
       "      <td>-0.005282</td>\n",
       "      <td>0.000439</td>\n",
       "      <td>0.004640</td>\n",
       "      <td>0.058956</td>\n",
       "    </tr>\n",
       "    <tr>\n",
       "      <th>PFE</th>\n",
       "      <td>250.0</td>\n",
       "      <td>-0.001058</td>\n",
       "      <td>0.015607</td>\n",
       "      <td>-0.069543</td>\n",
       "      <td>-0.010327</td>\n",
       "      <td>-0.000799</td>\n",
       "      <td>0.006518</td>\n",
       "      <td>0.059108</td>\n",
       "    </tr>\n",
       "    <tr>\n",
       "      <th>ABT</th>\n",
       "      <td>250.0</td>\n",
       "      <td>-0.000111</td>\n",
       "      <td>0.011468</td>\n",
       "      <td>-0.051747</td>\n",
       "      <td>-0.007295</td>\n",
       "      <td>-0.000190</td>\n",
       "      <td>0.006179</td>\n",
       "      <td>0.041538</td>\n",
       "    </tr>\n",
       "  </tbody>\n",
       "</table>\n",
       "</div>"
      ],
      "text/plain": [
       "     count      mean       std       min       25%       50%       75%  \\\n",
       "JNJ  250.0 -0.000368  0.010179 -0.040648 -0.005282  0.000439  0.004640   \n",
       "PFE  250.0 -0.001058  0.015607 -0.069543 -0.010327 -0.000799  0.006518   \n",
       "ABT  250.0 -0.000111  0.011468 -0.051747 -0.007295 -0.000190  0.006179   \n",
       "\n",
       "          max  \n",
       "JNJ  0.058956  \n",
       "PFE  0.059108  \n",
       "ABT  0.041538  "
      ]
     },
     "execution_count": 52,
     "metadata": {},
     "output_type": "execute_result"
    }
   ],
   "source": [
    "# Transposing Correlation Matrix \n",
    "log_returns.describe().transpose()  \n",
    "\n",
    "# describe() is a statistical summary\n",
    "# transpose() flips rows and columns\n"
   ]
  },
  {
   "cell_type": "code",
   "execution_count": 53,
   "id": "c81faa8f",
   "metadata": {},
   "outputs": [
    {
     "data": {
      "text/plain": [
       "JNJ   -0.092653\n",
       "PFE   -0.266491\n",
       "ABT   -0.028022\n",
       "dtype: float64"
      ]
     },
     "execution_count": 53,
     "metadata": {},
     "output_type": "execute_result"
    }
   ],
   "source": [
    "log_returns.mean()*252 # Times 252 is arbitrarty, it could vary based on trading days\n"
   ]
  },
  {
   "cell_type": "code",
   "execution_count": 54,
   "id": "0a41dade",
   "metadata": {},
   "outputs": [
    {
     "data": {
      "text/html": [
       "<div>\n",
       "<style scoped>\n",
       "    .dataframe tbody tr th:only-of-type {\n",
       "        vertical-align: middle;\n",
       "    }\n",
       "\n",
       "    .dataframe tbody tr th {\n",
       "        vertical-align: top;\n",
       "    }\n",
       "\n",
       "    .dataframe thead th {\n",
       "        text-align: right;\n",
       "    }\n",
       "</style>\n",
       "<table border=\"1\" class=\"dataframe\">\n",
       "  <thead>\n",
       "    <tr style=\"text-align: right;\">\n",
       "      <th></th>\n",
       "      <th>JNJ</th>\n",
       "      <th>PFE</th>\n",
       "      <th>ABT</th>\n",
       "    </tr>\n",
       "  </thead>\n",
       "  <tbody>\n",
       "    <tr>\n",
       "      <th>JNJ</th>\n",
       "      <td>0.000104</td>\n",
       "      <td>0.000057</td>\n",
       "      <td>0.000048</td>\n",
       "    </tr>\n",
       "    <tr>\n",
       "      <th>PFE</th>\n",
       "      <td>0.000057</td>\n",
       "      <td>0.000244</td>\n",
       "      <td>0.000030</td>\n",
       "    </tr>\n",
       "    <tr>\n",
       "      <th>ABT</th>\n",
       "      <td>0.000048</td>\n",
       "      <td>0.000030</td>\n",
       "      <td>0.000132</td>\n",
       "    </tr>\n",
       "  </tbody>\n",
       "</table>\n",
       "</div>"
      ],
      "text/plain": [
       "          JNJ       PFE       ABT\n",
       "JNJ  0.000104  0.000057  0.000048\n",
       "PFE  0.000057  0.000244  0.000030\n",
       "ABT  0.000048  0.000030  0.000132"
      ]
     },
     "execution_count": 54,
     "metadata": {},
     "output_type": "execute_result"
    }
   ],
   "source": [
    "log_returns.cov() # Now we are performing the Pairwise Covariance of columns \n",
    "\n"
   ]
  },
  {
   "cell_type": "code",
   "execution_count": 55,
   "id": "b7df5627",
   "metadata": {},
   "outputs": [
    {
     "data": {
      "text/html": [
       "<div>\n",
       "<style scoped>\n",
       "    .dataframe tbody tr th:only-of-type {\n",
       "        vertical-align: middle;\n",
       "    }\n",
       "\n",
       "    .dataframe tbody tr th {\n",
       "        vertical-align: top;\n",
       "    }\n",
       "\n",
       "    .dataframe thead th {\n",
       "        text-align: right;\n",
       "    }\n",
       "</style>\n",
       "<table border=\"1\" class=\"dataframe\">\n",
       "  <thead>\n",
       "    <tr style=\"text-align: right;\">\n",
       "      <th></th>\n",
       "      <th>JNJ</th>\n",
       "      <th>PFE</th>\n",
       "      <th>ABT</th>\n",
       "    </tr>\n",
       "  </thead>\n",
       "  <tbody>\n",
       "    <tr>\n",
       "      <th>JNJ</th>\n",
       "      <td>0.026110</td>\n",
       "      <td>0.014405</td>\n",
       "      <td>0.012187</td>\n",
       "    </tr>\n",
       "    <tr>\n",
       "      <th>PFE</th>\n",
       "      <td>0.014405</td>\n",
       "      <td>0.061378</td>\n",
       "      <td>0.007630</td>\n",
       "    </tr>\n",
       "    <tr>\n",
       "      <th>ABT</th>\n",
       "      <td>0.012187</td>\n",
       "      <td>0.007630</td>\n",
       "      <td>0.033144</td>\n",
       "    </tr>\n",
       "  </tbody>\n",
       "</table>\n",
       "</div>"
      ],
      "text/plain": [
       "          JNJ       PFE       ABT\n",
       "JNJ  0.026110  0.014405  0.012187\n",
       "PFE  0.014405  0.061378  0.007630\n",
       "ABT  0.012187  0.007630  0.033144"
      ]
     },
     "execution_count": 55,
     "metadata": {},
     "output_type": "execute_result"
    }
   ],
   "source": [
    "log_returns.cov()*252 "
   ]
  },
  {
   "cell_type": "code",
   "execution_count": 60,
   "id": "6d442312",
   "metadata": {},
   "outputs": [
    {
     "name": "stdout",
     "output_type": "stream",
     "text": [
      "Stocks\n",
      "{'JNJ':                    JNJ\n",
      "Date                  \n",
      "2023-06-26  163.630005\n",
      "2023-06-27  163.289993\n",
      "2023-06-28  162.960007\n",
      "2023-06-29  164.100006\n",
      "2023-06-30  165.520004\n",
      "...                ...\n",
      "2024-06-17  145.949997\n",
      "2024-06-18  145.649994\n",
      "2024-06-20  147.779999\n",
      "2024-06-21  148.750000\n",
      "2024-06-24  149.259995\n",
      "\n",
      "[251 rows x 1 columns], 'PFE':                   PFE\n",
      "Date                 \n",
      "2023-06-26  36.889999\n",
      "2023-06-27  36.419998\n",
      "2023-06-28  36.290001\n",
      "2023-06-29  36.119999\n",
      "2023-06-30  36.680000\n",
      "...               ...\n",
      "2024-06-17  26.980000\n",
      "2024-06-18  27.410000\n",
      "2024-06-20  27.740000\n",
      "2024-06-21  27.740000\n",
      "2024-06-24  28.319901\n",
      "\n",
      "[251 rows x 1 columns], 'ABT':                    ABT\n",
      "Date                  \n",
      "2023-06-26  108.510002\n",
      "2023-06-27  107.790001\n",
      "2023-06-28  107.610001\n",
      "2023-06-29  107.660004\n",
      "2023-06-30  109.019997\n",
      "...                ...\n",
      "2024-06-17  103.449997\n",
      "2024-06-18  103.989998\n",
      "2024-06-20  106.570000\n",
      "2024-06-21  105.720001\n",
      "2024-06-24  105.535004\n",
      "\n",
      "[251 rows x 1 columns]}\n",
      "\n",
      "\n",
      "Creating Random Weights\n",
      "[0.08394994 0.5708425  0.97784208]\n",
      "\n",
      "\n",
      "Rebalance to sum to 1.0\n",
      "[0.05141992 0.349645   0.59893508]\n",
      "\n",
      "\n",
      "Expected Portafolio Return\n",
      "-0.11472477494221037\n",
      "\n",
      "\n",
      "Expected Volatility\n",
      "0.15468250483028467\n",
      "\n",
      "\n",
      "Sharp Ratio\n",
      "-0.7416790610423892\n"
     ]
    }
   ],
   "source": [
    "print('Stocks')\n",
    "print(stock_data)\n",
    "print('\\n')  # It outputs a blank line for better code organization\n",
    "\n",
    "print('Creating Random Weights')\n",
    "weights = np.array(np.random.random(3))\n",
    "print(weights)\n",
    "print('\\n') \n",
    "\n",
    "print('Rebalance to sum to 1.0')\n",
    "weights = weights/np.sum(weights)\n",
    "print(weights)\n",
    "print('\\n')\n",
    "\n",
    "print('Expected Portafolio Return')\n",
    "exp_returns = np.sum(log_returns.mean() * weights) * 252 \n",
    "print(exp_returns)\n",
    "print('\\n')\n",
    "\n",
    "print('Expected Volatility')\n",
    "exp_volatility = np.sqrt(np.dot(weights.T, np.dot(log_returns.cov() * 252, weights)))\n",
    "print(exp_volatility)\n",
    "print('\\n')\n",
    "\n",
    "# Sharp Ratio. Measures performance of an invesment (if n > 2 = very good, if n < 1, very bad)\n",
    "SR = exp_returns/exp_volatility\n",
    "print('Sharp Ratio')\n",
    "print(SR)\n",
    "\n",
    "# Sharp Ratio ended up being negative, this is REALLY bad LMAO\n"
   ]
  },
  {
   "cell_type": "code",
   "execution_count": 65,
   "id": "2ffa6459",
   "metadata": {},
   "outputs": [
    {
     "name": "stdout",
     "output_type": "stream",
     "text": [
      "-0.22611773027095702\n",
      "353\n",
      "[0.10830056 0.01304681 0.87865263]\n"
     ]
    }
   ],
   "source": [
    "num_rep = 1000 \n",
    "all_weights = np.zeros((num_rep, len(stock_data)))\n",
    "ret_arr = np.zeros(num_rep)\n",
    "volt_arr = np.zeros(num_rep)\n",
    "sharp_arr = np.zeros(num_rep)\n",
    "\n",
    "for ind in range(num_rep): \n",
    "    weights = np.array(np.random.random(3))\n",
    "    weights = weights/np.sum(weights)\n",
    "    all_weights[ind,:] = weights \n",
    "    ret_arr[ind] = np.sum((log_returns.mean()*weights)*252)\n",
    "    volt_arr[ind] = np.sqrt(np.dot(weights.T, np.dot(log_returns.cov()*252, weights)))\n",
    "    sharp_arr[ind]= ret_arr[ind]/volt_arr[ind]\n",
    "    \n",
    "s1 = sharp_arr.max()  # Returns Maximum Value inside the array \n",
    "print(s1)\n",
    "s2 = sharp_arr.argmax()\n",
    "print(s2)\n",
    "\n",
    "aw = all_weights[s2, :]\n",
    "print(aw)\n",
    "\n"
   ]
  },
  {
   "cell_type": "code",
   "execution_count": 3,
   "id": "de43357e",
   "metadata": {},
   "outputs": [
    {
     "ename": "NameError",
     "evalue": "name 'plt' is not defined",
     "output_type": "error",
     "traceback": [
      "\u001b[1;31m---------------------------------------------------------------------------\u001b[0m",
      "\u001b[1;31mNameError\u001b[0m                                 Traceback (most recent call last)",
      "Cell \u001b[1;32mIn[3], line 3\u001b[0m\n\u001b[0;32m      1\u001b[0m \u001b[38;5;66;03m#Plotting Data \u001b[39;00m\n\u001b[1;32m----> 3\u001b[0m \u001b[43mplt\u001b[49m\u001b[38;5;241m.\u001b[39mfigure(figsize\u001b[38;5;241m=\u001b[39m(\u001b[38;5;241m10\u001b[39m,\u001b[38;5;241m5\u001b[39m))\n\u001b[0;32m      4\u001b[0m plt\u001b[38;5;241m.\u001b[39mscatter(volt_arr,ret_arr,c\u001b[38;5;241m=\u001b[39msharp_arr,cmap\u001b[38;5;241m=\u001b[39m\u001b[38;5;124m'\u001b[39m\u001b[38;5;124mcoolwarm\u001b[39m\u001b[38;5;124m'\u001b[39m)\n\u001b[0;32m      5\u001b[0m plt\u001b[38;5;241m.\u001b[39mcolorbar(label\u001b[38;5;241m=\u001b[39m\u001b[38;5;124m'\u001b[39m\u001b[38;5;124mSharp Ratio\u001b[39m\u001b[38;5;124m'\u001b[39m)\n",
      "\u001b[1;31mNameError\u001b[0m: name 'plt' is not defined"
     ]
    }
   ],
   "source": [
    "#Plotting Data \n",
    "\n",
    "plt.figure(figsize=(10,5))\n",
    "plt.scatter(volt_arr,ret_arr,c=sharp_arr,cmap='coolwarm')\n",
    "plt.colorbar(label='Sharp Ratio')\n",
    "plt.xlabel('Volatility')\n",
    "plt.ylabel('Expected Returns')\n",
    "\n"
   ]
  },
  {
   "cell_type": "code",
   "execution_count": null,
   "id": "910b33cd",
   "metadata": {},
   "outputs": [],
   "source": [
    "# The Strategy Allocation will not generate adequate returns for the level of Risk Taken\n",
    "# High Volatility relative to Expected Returns will lead to a negative Sharp Ratio \n",
    "# Investments are ultimately UNDERPERFORMING\n",
    "# US bank declared that Healthcare Stocks underperformed significantly last year and beginning of this year"
   ]
  }
 ],
 "metadata": {
  "kernelspec": {
   "display_name": "Python 3",
   "language": "python",
   "name": "python3"
  },
  "language_info": {
   "codemirror_mode": {
    "name": "ipython",
    "version": 3
   },
   "file_extension": ".py",
   "mimetype": "text/x-python",
   "name": "python",
   "nbconvert_exporter": "python",
   "pygments_lexer": "ipython3",
   "version": "3.11.1"
  }
 },
 "nbformat": 4,
 "nbformat_minor": 5
}
